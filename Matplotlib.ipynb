{
 "cells": [
  {
   "cell_type": "code",
   "execution_count": 1,
   "metadata": {},
   "outputs": [],
   "source": [
    "import matplotlib.pyplot as plt\n",
    "%matplotlib inline"
   ]
  },
  {
   "cell_type": "code",
   "execution_count": 2,
   "metadata": {},
   "outputs": [],
   "source": [
    "import numpy as np\n",
    "import matplotlib.pyplot as plt\n",
    "%matplotlib inline"
   ]
  },
  {
   "cell_type": "code",
   "execution_count": 3,
   "metadata": {},
   "outputs": [],
   "source": [
    "x = np.linspace(0,5,11)\n",
    "y = x ** 2"
   ]
  },
  {
   "cell_type": "code",
   "execution_count": 4,
   "metadata": {},
   "outputs": [],
   "source": [
    "x"
   ]
  },
  {
   "cell_type": "code",
   "execution_count": 5,
   "metadata": {},
   "outputs": [],
   "source": [
    "y"
   ]
  },
  {
   "cell_type": "code",
   "execution_count": 6,
   "metadata": {},
   "outputs": [],
   "source": [
    "#functional method\n",
    "plt.plot(x,y)"
   ]
  },
  {
   "cell_type": "code",
   "execution_count": 7,
   "metadata": {},
   "outputs": [],
   "source": [
    "plt.subplot(1,2,1)"
   ]
  },
  {
   "cell_type": "code",
   "execution_count": 8,
   "metadata": {},
   "outputs": [],
   "source": [
    "# args are (number of rows, number of columns, )\n",
    "\n",
    "\n",
    "plt.subplot(1,2,1)\n",
    "plt.plot(x,y,'r')\n",
    "\n",
    "plt.subplot(1,2,2)\n",
    "plt.plot(x,y, 'b')"
   ]
  },
  {
   "cell_type": "code",
   "execution_count": 9,
   "metadata": {},
   "outputs": [],
   "source": [
    "# args are (number of rows, number of columns, )\n",
    "\n",
    "\n",
    "plt.subplot(1,2,1)\n",
    "plt.plot(x,y,'r')\n",
    "\n",
    "plt.subplot(1,2,2)\n",
    "plt.plot(y,x, 'b')"
   ]
  },
  {
   "cell_type": "code",
   "execution_count": 10,
   "metadata": {},
   "outputs": [],
   "source": [
    "#object oriented method - much better\n",
    "fig = plt.figure()"
   ]
  },
  {
   "cell_type": "code",
   "execution_count": 11,
   "metadata": {},
   "outputs": [],
   "source": [
    "#object oriented method - much better\n",
    "fig = plt.figure()\n",
    "#think of this as a blank canvas\n",
    "axes = fig.add_axes([0.1, 0.1, 0.8, 0.8])\n",
    "\n",
    "#left, bottom, width, height"
   ]
  },
  {
   "cell_type": "code",
   "execution_count": 12,
   "metadata": {},
   "outputs": [],
   "source": [
    "#object oriented method - much better\n",
    "fig = plt.figure()\n",
    "#think of this as a blank canvas\n",
    "#left, bottom, width, height\n",
    "axes = fig.add_axes([0.1, 0.1, 0.8, 0.8])\n",
    "\n",
    "axes.plot(x,y)"
   ]
  },
  {
   "cell_type": "code",
   "execution_count": 13,
   "metadata": {},
   "outputs": [],
   "source": [
    "#object oriented method - much better as you have a lot more control over it. \n",
    "fig = plt.figure()\n",
    "#think of this as a blank canvas\n",
    "#left, bottom, width, height\n",
    "axes = fig.add_axes([0.1, 0.1, 0.8, 0.8])\n",
    "\n",
    "axes.plot(x,y)\n",
    "axes.set_xlabel('X label')\n",
    "axes.set_ylabel('Y Label')"
   ]
  },
  {
   "cell_type": "code",
   "execution_count": 14,
   "metadata": {},
   "outputs": [],
   "source": [
    "#values must be between zero and one as a percentage\n",
    "\n",
    "fig = plt.figure()\n",
    "axes1 = fig.add_axes([0.1,0.1,0.8,0.8])\n",
    "axes2 = fig.add_axes([0.2, 0.5, 0.4, 0.3])"
   ]
  },
  {
   "cell_type": "code",
   "execution_count": 15,
   "metadata": {},
   "outputs": [],
   "source": [
    "#values must be between zero and one as a percentage\n",
    "\n",
    "fig = plt.figure()\n",
    "axes1 = fig.add_axes([0.1,0.1,0.8,0.8])\n",
    "axes2 = fig.add_axes([0.3, 0.5, 0.4, 0.3])"
   ]
  },
  {
   "cell_type": "code",
   "execution_count": 16,
   "metadata": {},
   "outputs": [],
   "source": [
    "#values must be between zero and one as a percentage\n",
    "\n",
    "fig = plt.figure()\n",
    "axes1 = fig.add_axes([0.1,0.1,0.8,0.8])\n",
    "axes2 = fig.add_axes([0.0, 0.5, 0.4, 0.3])"
   ]
  },
  {
   "cell_type": "code",
   "execution_count": 17,
   "metadata": {},
   "outputs": [],
   "source": [
    "#values must be between zero and one as a percentage\n",
    "\n",
    "fig = plt.figure()\n",
    "axes1 = fig.add_axes([0.1,0.1,0.8,0.8])\n",
    "axes2 = fig.add_axes([0.2, 0.5, 0.4, 0.3])"
   ]
  },
  {
   "cell_type": "code",
   "execution_count": 18,
   "metadata": {},
   "outputs": [],
   "source": [
    "#values must be between zero and one as a percentage\n",
    "\n",
    "fig = plt.figure()\n",
    "axes1 = fig.add_axes([0.1,0.1,0.8,0.8])\n",
    "axes2 = fig.add_axes([0.5, 0.5, 0.4, 0.3])"
   ]
  },
  {
   "cell_type": "code",
   "execution_count": 19,
   "metadata": {},
   "outputs": [],
   "source": [
    "#values must be between zero and one as a percentage\n",
    "\n",
    "fig = plt.figure()\n",
    "axes1 = fig.add_axes([0.1,0.1,0.8,0.8])\n",
    "axes2 = fig.add_axes([0.5, 0.0, 0.4, 0.3])"
   ]
  },
  {
   "cell_type": "code",
   "execution_count": 20,
   "metadata": {},
   "outputs": [],
   "source": [
    "#values must be between zero and one as a percentage\n",
    "\n",
    "fig = plt.figure()\n",
    "axes1 = fig.add_axes([0.1,0.1,0.8,0.8])\n",
    "axes2 = fig.add_axes([0.5, 0.1, 0.4, 0.3])"
   ]
  },
  {
   "cell_type": "code",
   "execution_count": 21,
   "metadata": {},
   "outputs": [],
   "source": [
    "#values must be between zero and one as a percentage\n",
    "\n",
    "fig = plt.figure()\n",
    "axes1 = fig.add_axes([0.1,0.1,0.8,0.8])\n",
    "axes2 = fig.add_axes([0.5, 0.15, 0.4, 0.3])"
   ]
  },
  {
   "cell_type": "code",
   "execution_count": 22,
   "metadata": {},
   "outputs": [],
   "source": [
    "#values must be between zero and one as a percentage\n",
    "\n",
    "\n",
    "fig = plt.figure()\n",
    "axes1 = fig.add_axes([0.1,0.1,0.8,0.8])\n",
    "axes2 = fig.add_axes([0.2, 0.5, 0.4, 0.3])"
   ]
  },
  {
   "cell_type": "code",
   "execution_count": 23,
   "metadata": {},
   "outputs": [],
   "source": [
    "#values must be between zero and one as a percentage\n",
    "\n",
    "\n",
    "fig = plt.figure()\n",
    "axes1 = fig.add_axes([0.1,0.1,0.8,0.8])\n",
    "axes2 = fig.add_axes([0.2, 0.5, 0.4, 0.3])\n",
    "\n",
    "axes1.plot(x,y)\n",
    "\n",
    "axes2.plot(y,x)"
   ]
  },
  {
   "cell_type": "code",
   "execution_count": 24,
   "metadata": {},
   "outputs": [],
   "source": [
    "#object oriented method - much better as you have a lot more control over it. \n",
    "fig = plt.figure()\n",
    "#think of this as a blank canvas\n",
    "#left, bottom, width, height in relation to the blank canvas\n",
    "axes = fig.add_axes([0.1, 0.1, 0.8, 0.8])\n",
    "\n",
    "axes.plot(x,y)\n",
    "axes.set_xlabel('X label')\n",
    "axes.set_ylabel('Y Label')\n",
    "\n",
    "axes1.set_title()\"Larger Plot\")\n",
    "axes2.set_title(\"Smaller Plot\")"
   ]
  },
  {
   "cell_type": "code",
   "execution_count": 25,
   "metadata": {},
   "outputs": [],
   "source": [
    "#values must be between zero and one as a percentage\n",
    "\n",
    "\n",
    "fig = plt.figure()\n",
    "axes1 = fig.add_axes([0.1,0.1,0.8,0.8])\n",
    "axes2 = fig.add_axes([0.2, 0.5, 0.4, 0.3])\n",
    "\n",
    "axes1.plot(x,y)\n",
    "\n",
    "axes2.plot(y,x)\n",
    "\n",
    "axes1.set_title()\"Larger Plot\")\n",
    "axes2.set_title(\"Smaller Plot\")"
   ]
  },
  {
   "cell_type": "code",
   "execution_count": 26,
   "metadata": {},
   "outputs": [],
   "source": [
    "#values must be between zero and one as a percentage\n",
    "\n",
    "\n",
    "fig = plt.figure()\n",
    "axes1 = fig.add_axes([0.1,0.1,0.8,0.8])\n",
    "axes2 = fig.add_axes([0.2, 0.5, 0.4, 0.3])\n",
    "\n",
    "axes1.plot(x,y)\n",
    "\n",
    "axes2.plot(y,x)\n",
    "\n",
    "axes1.set_title(\"Larger Plot\")\n",
    "axes2.set_title(\"Smaller Plot\")"
   ]
  },
  {
   "cell_type": "code",
   "execution_count": 27,
   "metadata": {},
   "outputs": [],
   "source": [
    "#values must be between zero and one as a percentage\n",
    "\n",
    "#create an empty figure\n",
    "fig = plt.figure()\n",
    "#add axes to it and pass in list that goes left, bottom, width, height. \n",
    "axes1 = fig.add_axes([0.1,0.1,0.8,0.8])\n",
    "axes2 = fig.add_axes([0.2, 0.5, 0.4, 0.3])\n",
    "\n",
    "#pass in values for chart\n",
    "axes1.plot(x,y)\n",
    "\n",
    "axes2.plot(y,x)\n",
    "\n",
    "\n",
    "axes1.set_title(\"Larger Plot\")\n",
    "axes2.set_title(\"Smaller Plot\")"
   ]
  },
  {
   "cell_type": "code",
   "execution_count": 28,
   "metadata": {},
   "outputs": [],
   "source": [
    "#values must be between zero and one as a percentage\n",
    "\n",
    "#create an empty figure\n",
    "fig = plt.figure()\n",
    "#add axes to it and pass in list that goes left, bottom, width, height. \n",
    "axes1 = fig.add_axes([0.1,0.1,0.8,0.8])\n",
    "axes2 = fig.add_axes([0.2, 0.5, 0.4, 0.3])\n",
    "\n",
    "#pass in values for plot\n",
    "axes1.plot(x,y)\n",
    "\n",
    "axes2.plot(y,x)\n",
    "\n",
    "#add a title to both plots\n",
    "axes1.set_title(\"Larger Plot\")\n",
    "axes2.set_title(\"Smaller Plot\")"
   ]
  },
  {
   "cell_type": "code",
   "execution_count": 29,
   "metadata": {},
   "outputs": [],
   "source": [
    "%notebook \"C:\filepath\\05-Data-Visualization-with-Matplotlib\\Matplotlib.ipynb\""
   ]
  },
  {
   "cell_type": "code",
   "execution_count": 30,
   "metadata": {},
   "outputs": [],
   "source": [
    "fig,axes = plt.subplots()"
   ]
  },
  {
   "cell_type": "code",
   "execution_count": 31,
   "metadata": {},
   "outputs": [],
   "source": [
    "fig,axes = plt.subplots()\n",
    "axes.plot(x,y)"
   ]
  },
  {
   "cell_type": "code",
   "execution_count": 32,
   "metadata": {},
   "outputs": [],
   "source": [
    "fig,axes = plt.subplots(nrows=1,nocols=2\n",
    "axes.plot(x,y)\n",
    "#in subplots you can set specific columns and rows. "
   ]
  },
  {
   "cell_type": "code",
   "execution_count": 33,
   "metadata": {},
   "outputs": [],
   "source": [
    "fig,axes = plt.subplots(nrows=1,nocols=2)\n",
    "axes.plot(x,y)\n",
    "#in subplots you can set specific columns and rows. "
   ]
  },
  {
   "cell_type": "code",
   "execution_count": 34,
   "metadata": {},
   "outputs": [],
   "source": [
    "fig,axes = plt.subplots(nrows=1,nocols=2)\n",
    "#axes.plot(x,y)\n",
    "#in subplots you can set specific columns and rows. "
   ]
  },
  {
   "cell_type": "code",
   "execution_count": 35,
   "metadata": {},
   "outputs": [],
   "source": [
    "fig,axes = plt.subplots(nrows=1,ncols=2)\n",
    "#axes.plot(x,y)\n",
    "#in subplots you can set specific columns and rows. "
   ]
  },
  {
   "cell_type": "code",
   "execution_count": 36,
   "metadata": {},
   "outputs": [],
   "source": [
    "fig,axes = plt.subplots(nrows=3,ncols=2)\n",
    "#axes.plot(x,y)\n",
    "#in subplots you can set specific columns and rows. "
   ]
  },
  {
   "cell_type": "code",
   "execution_count": 37,
   "metadata": {},
   "outputs": [],
   "source": [
    "fig,axes = plt.subplots(nrows=3,ncols=2)\n",
    "plt.tight_layout\n",
    "#axes.plot(x,y)\n",
    "#in subplots you can set specific columns and rows. "
   ]
  },
  {
   "cell_type": "code",
   "execution_count": 38,
   "metadata": {},
   "outputs": [],
   "source": [
    "fig,axes = plt.subplots(nrows=1,ncols=3)\n",
    "plt.tight_layout\n",
    "#axes.plot(x,y)\n",
    "#in subplots you can set specific columns and rows. "
   ]
  },
  {
   "cell_type": "code",
   "execution_count": 39,
   "metadata": {},
   "outputs": [],
   "source": [
    "axes"
   ]
  },
  {
   "cell_type": "code",
   "execution_count": 40,
   "metadata": {},
   "outputs": [],
   "source": [
    "fig,axes = plt.subplots(nrows=1,ncols=3)\n",
    "plt.tight_layout\n",
    "#axes.plot(x,y)\n",
    "#in subplots you can set specific columns and rows. \n",
    "\n",
    "#axes are iterable\n",
    "for current_as in axes:\n",
    "    current_as.plot(x,y)"
   ]
  },
  {
   "cell_type": "code",
   "execution_count": 41,
   "metadata": {},
   "outputs": [],
   "source": [
    "axes\n",
    "#index axes\n",
    "\n",
    "axes[0].plot(x,y)"
   ]
  },
  {
   "cell_type": "code",
   "execution_count": 42,
   "metadata": {},
   "outputs": [],
   "source": [
    "\n",
    "#index axes\n",
    "\n",
    "axes[0].plot(x,y)"
   ]
  },
  {
   "cell_type": "code",
   "execution_count": 43,
   "metadata": {},
   "outputs": [],
   "source": [
    "\n",
    "#index axes\n",
    "\n",
    "axes[0].plot(x,y)]\n",
    "axes[0] set_title('First Plot')"
   ]
  },
  {
   "cell_type": "code",
   "execution_count": 44,
   "metadata": {},
   "outputs": [],
   "source": [
    "\n",
    "#index axes\n",
    "\n",
    "axes[0].plot(x,y)]\n",
    "axes[0].set_title('First Plot')"
   ]
  },
  {
   "cell_type": "code",
   "execution_count": 45,
   "metadata": {},
   "outputs": [],
   "source": [
    "\n",
    "#index axes\n",
    "\n",
    "axes[0].plot(x,y)\n",
    "axes[0].set_title('First Plot')"
   ]
  },
  {
   "cell_type": "code",
   "execution_count": 46,
   "metadata": {},
   "outputs": [],
   "source": [
    "fig,axes = plt.subplots(nrows=1,ncols=3)\n",
    "#index axes\n",
    "\n",
    "axes[0].plot(x,y)\n",
    "axes[0].set_title('First Plot')"
   ]
  },
  {
   "cell_type": "code",
   "execution_count": 47,
   "metadata": {},
   "outputs": [],
   "source": [
    "fig,axes = plt.subplots(nrows=1,ncols=3)\n",
    "#index axes\n",
    "\n",
    "axes[0].plot(x,y)\n",
    "axes[0].set_title('First Plot')\n",
    "\n",
    "axes[1].plot(y,x)\n",
    "axes[1].set_title('Second Plot')"
   ]
  },
  {
   "cell_type": "code",
   "execution_count": 48,
   "metadata": {},
   "outputs": [],
   "source": [
    "#figure size and DPI\n",
    "fig = plt.figure(figsize(3,2), dpi =100)"
   ]
  },
  {
   "cell_type": "code",
   "execution_count": 49,
   "metadata": {},
   "outputs": [],
   "source": [
    "#figure size and DPI\n",
    "fig = plt.figure(figsize=(3,2), dpi =100)"
   ]
  },
  {
   "cell_type": "code",
   "execution_count": 50,
   "metadata": {},
   "outputs": [],
   "source": [
    "#figure size and DPI\n",
    "fig = plt.figure(figsize=(3,2), dpi =100)\n",
    "ax = fig.add_axes([0,0,1,1])"
   ]
  },
  {
   "cell_type": "code",
   "execution_count": 51,
   "metadata": {},
   "outputs": [],
   "source": [
    "#figure size and DPI\n",
    "fig = plt.figure(figsize=(3,2), dpi =100)\n",
    "ax = fig.add_axes([0,0,1,1])\n",
    "ax.plot(x,y)"
   ]
  },
  {
   "cell_type": "code",
   "execution_count": 52,
   "metadata": {},
   "outputs": [],
   "source": [
    "#figure size and DPI\n",
    "fig = plt.figure(figsize=(9,2), dpi =100)\n",
    "ax = fig.add_axes([0,0,1,1])\n",
    "ax.plot(x,y)"
   ]
  },
  {
   "cell_type": "code",
   "execution_count": 53,
   "metadata": {},
   "outputs": [],
   "source": [
    "#figure size and DPI\n",
    "fig = plt.figure(figsize=(1,2), dpi =100)\n",
    "ax = fig.add_axes([0,0,1,1])\n",
    "ax.plot(x,y)"
   ]
  },
  {
   "cell_type": "code",
   "execution_count": 54,
   "metadata": {},
   "outputs": [],
   "source": [
    "#figure size and DPI\n",
    "fig = plt.figure(nrows =2, ncols=1figsize=(1,2), dpi =100)\n",
    "ax = fig.add_axes([0,0,1,1])\n",
    "ax.plot(x,y)"
   ]
  },
  {
   "cell_type": "code",
   "execution_count": 55,
   "metadata": {},
   "outputs": [],
   "source": [
    "#figure size and DPI\n",
    "fig = plt.figure(nrows =2, ncols=1,figsize=(1,2), dpi =100)\n",
    "ax = fig.add_axes([0,0,1,1])\n",
    "ax.plot(x,y)"
   ]
  },
  {
   "cell_type": "code",
   "execution_count": 56,
   "metadata": {},
   "outputs": [],
   "source": [
    "#figure size and DPI\n",
    "fig = plt.figure(figsize=(1,2), dpi =100)\n",
    "ax = fig.add_axes([0,0,1,1])\n",
    "ax.plot(x,y)"
   ]
  },
  {
   "cell_type": "code",
   "execution_count": 57,
   "metadata": {},
   "outputs": [],
   "source": [
    "fig, axes = plt.subplots(nrows = 2, cols = 1, figsuze=*8,2)\n",
    "axes[0].plot(x,y)\n",
    "axes[1].plot(y,x)"
   ]
  },
  {
   "cell_type": "code",
   "execution_count": 58,
   "metadata": {},
   "outputs": [],
   "source": [
    "fig,axes = plt.subplots(nrows=2, cols=1, figsuze=(8,2)\n",
    "axes[0].plot(x,y)\n",
    "axes[1].plot(y,x)"
   ]
  },
  {
   "cell_type": "code",
   "execution_count": 59,
   "metadata": {},
   "outputs": [],
   "source": [
    "fig,axes = plt.subplots(nrows=2, cols=1, figsuze=(8,2)\n",
    "                        \n",
    "axes[0].plot(x,y)\n",
    "                        \n",
    "axes[1].plot(y,x)"
   ]
  },
  {
   "cell_type": "code",
   "execution_count": 60,
   "metadata": {},
   "outputs": [],
   "source": [
    "fig,axes = plt.subplots(nrows=2, cols=1, figsuze=(8,2))\n",
    "                        \n",
    "axes[0].plot(x,y)\n",
    "                        \n",
    "axes[1].plot(y,x)"
   ]
  },
  {
   "cell_type": "code",
   "execution_count": 61,
   "metadata": {},
   "outputs": [],
   "source": [
    "fig,axes = plt.subplots(nrows=2, ncols=1, figsuze=(8,2))\n",
    "                        \n",
    "axes[0].plot(x,y)\n",
    "                        \n",
    "axes[1].plot(y,x)"
   ]
  },
  {
   "cell_type": "code",
   "execution_count": 62,
   "metadata": {},
   "outputs": [],
   "source": [
    "fig,axes = plt.subplots(nrows=2, ncols=1, figsize=(8,2))\n",
    "                        \n",
    "axes[0].plot(x,y)\n",
    "                        \n",
    "axes[1].plot(y,x)"
   ]
  },
  {
   "cell_type": "code",
   "execution_count": 63,
   "metadata": {},
   "outputs": [],
   "source": [
    "fig,axes = plt.subplots(nrows=2, ncols=1, figsize=(8,2))\n",
    "                        \n",
    "axes[0].plot(x,y)\n",
    "                        \n",
    "axes[1].plot(y,x)\n",
    "plt.tight_layout()"
   ]
  },
  {
   "cell_type": "code",
   "execution_count": 64,
   "metadata": {},
   "outputs": [],
   "source": [
    "#save a figure using matplotlib in various figure file\n",
    "fig"
   ]
  },
  {
   "cell_type": "code",
   "execution_count": 65,
   "metadata": {},
   "outputs": [],
   "source": [
    "#save a figure using matplotlib in various figure file\n",
    "fig.savefig('my_picture.png')"
   ]
  },
  {
   "cell_type": "code",
   "execution_count": 66,
   "metadata": {},
   "outputs": [],
   "source": [
    "fig = plt.figure()\n",
    "ax = fig.add_axes([0,0,1,1])\n",
    "ax.plot (x,y)\n",
    "ax.set_title('Title')\n",
    "ax.set_label('Y')\n",
    "ax.set_xlabel('X')"
   ]
  },
  {
   "cell_type": "code",
   "execution_count": 67,
   "metadata": {},
   "outputs": [],
   "source": [
    "fig = plt.figure()\n",
    "ax = fig.add_axes([0,0,1,1])\n",
    "ax.plot (x,y)\n",
    "ax.set_title('Title')\n",
    "ax.set_label('Y')\n",
    "ax.set_xlabel('X')\n",
    "x.plot(y,x)"
   ]
  },
  {
   "cell_type": "code",
   "execution_count": 68,
   "metadata": {},
   "outputs": [],
   "source": [
    "fig = plt.figure()\n",
    "ax = fig.add_axes([0,0,1,1])\n",
    "ax.plot (x,y)\n",
    "ax.set_title('Title')\n",
    "ax.set_label('Y')\n",
    "ax.set_xlabel('X')\n",
    "ax.plot(y,x)"
   ]
  },
  {
   "cell_type": "code",
   "execution_count": 69,
   "metadata": {},
   "outputs": [],
   "source": [
    "fig = plt.figure()\n",
    "ax = fig.add_axes([0,0,1,1])\n",
    "ax.plot (x,y)\n",
    "ax.set_title('Title')\n",
    "ax.set_label('Y')\n",
    "ax.set_xlabel('X')\n",
    "\n",
    "#can post 2 plots over each other\n",
    "ax.plot(y,x)\n",
    "\n",
    "#add a legend with 2 step process\n",
    "ax.Legend()"
   ]
  },
  {
   "cell_type": "code",
   "execution_count": 70,
   "metadata": {},
   "outputs": [],
   "source": [
    "fig = plt.figure()\n",
    "ax = fig.add_axes([0,0,1,1])\n",
    "ax.plot (x,y)\n",
    "ax.set_title('Title')\n",
    "ax.set_label('Y')\n",
    "ax.set_xlabel('X')\n",
    "\n",
    "#can post 2 plots over each other\n",
    "ax.plot(y,x, label = \"Y of X\")\n",
    "\n",
    "#add a legend with 2 step process\n",
    "ax.Legend()\n",
    "#for each plot call, enter in arguments"
   ]
  },
  {
   "cell_type": "code",
   "execution_count": 71,
   "metadata": {},
   "outputs": [],
   "source": [
    "fig = plt.figure()\n",
    "ax = fig.add_axes([0,0,1,1])\n",
    "ax.plot (x,x**2, label= x Squared)\n",
    "ax.set_title('Title')\n",
    "ax.set_label('Y')\n",
    "ax.set_xlabel('X')\n",
    "\n",
    "#can post 2 plots over each other\n",
    "ax.plot(x,x**3, label = \"X Cubed\")\n",
    "\n",
    "#add a legend with 2 step process\n",
    "ax.Legend()\n",
    "#for each plot call, enter in arguments"
   ]
  },
  {
   "cell_type": "code",
   "execution_count": 72,
   "metadata": {},
   "outputs": [],
   "source": [
    "fig = plt.figure()\n",
    "ax = fig.add_axes([0,0,1,1])\n",
    "ax.plot (x,x**2, label= x Squared)\n",
    "ax.set_title('Title')\n",
    "ax.set_label('Y')\n",
    "ax.set_xlabel('X')\n",
    "\n",
    "#can post 2 plots over each other\n",
    "ax.plot(x,x**3, label =\"X Cubed\")\n",
    "\n",
    "#add a legend with 2 step process\n",
    "ax.Legend()\n",
    "#for each plot call, enter in arguments"
   ]
  },
  {
   "cell_type": "code",
   "execution_count": 73,
   "metadata": {},
   "outputs": [],
   "source": [
    "fig = plt.figure()\n",
    "ax = fig.add_axes([0,0,1,1])\n",
    "ax.plot (x,x**2, label= 'x Squared')\n",
    "ax.plot(x,x**3, label ='X Cubed')\n",
    "ax.set_title('Title')\n",
    "ax.set_label('Y')\n",
    "ax.set_xlabel('X')\n",
    "\n",
    "#can post 2 plots over each other\n",
    "\n",
    "\n",
    "#add a legend with 2 step process\n",
    "ax.Legend()\n",
    "#for each plot call, enter in arguments"
   ]
  },
  {
   "cell_type": "code",
   "execution_count": 74,
   "metadata": {},
   "outputs": [],
   "source": [
    "fig = plt.figure()\n",
    "ax = fig.add_axes([0,0,1,1])\n",
    "ax.plot (x,x**2, label= 'x Squared')\n",
    "ax.plot(x,x**3, label ='X Cubed')\n",
    "\n",
    "\n",
    "#can post 2 plots over each other\n",
    "\n",
    "\n",
    "#add a legend with 2 step process\n",
    "ax.Legend()\n",
    "#for each plot call, enter in arguments"
   ]
  },
  {
   "cell_type": "code",
   "execution_count": 75,
   "metadata": {},
   "outputs": [],
   "source": [
    "fig = plt.figure()\n",
    "ax = fig.add_axes([0,0,1,1])\n",
    "ax.plot(x,x**2,label='x Squared')\n",
    "ax.plot(x,x**3,label 'X Cubed')\n",
    "\n",
    "\n",
    "#can post 2 plots over each other\n",
    "\n",
    "\n",
    "#add a legend with 2 step process\n",
    "ax.Legend()\n",
    "#for each plot call, enter in arguments"
   ]
  },
  {
   "cell_type": "code",
   "execution_count": 76,
   "metadata": {},
   "outputs": [],
   "source": [
    "fig = plt.figure()\n",
    "ax = fig.add_axes([0,0,1,1])\n",
    "ax.plot(x,x**2,label='x Squared')\n",
    "ax.plot(x,x**3,label= 'X Cubed')\n",
    "\n",
    "\n",
    "#can post 2 plots over each other\n",
    "\n",
    "\n",
    "#add a legend with 2 step process\n",
    "ax.Legend()\n",
    "#for each plot call, enter in arguments"
   ]
  },
  {
   "cell_type": "code",
   "execution_count": 77,
   "metadata": {},
   "outputs": [],
   "source": [
    "fig = plt.figure()\n",
    "ax = fig.add_axes([0,0,1,1])\n",
    "ax.plot(x,x**2,label='x Squared')\n",
    "ax.plot(x,x**3,label= 'X Cubed')\n",
    "\n",
    "\n",
    "#can post 2 plots over each other\n",
    "\n",
    "\n",
    "#add a legend with 2 step process\n",
    "ax.legend()\n",
    "#for each plot call, enter in arguments"
   ]
  },
  {
   "cell_type": "code",
   "execution_count": 78,
   "metadata": {},
   "outputs": [],
   "source": [
    "fig = plt.figure()\n",
    "ax = fig.add_axes([0,0,1,1])\n",
    "ax.plot(x,x**2,label='x Squared')\n",
    "ax.plot(x,x**3,label= 'X Cubed')\n",
    "\n",
    "\n",
    "#can post 2 plots over each other\n",
    "\n",
    "\n",
    "#add a legend with 2 step process\n",
    "#maptlopl lib has location code mapping on website\n",
    "ax.legend(loc=0)\n",
    "#for each plot call, enter in arguments"
   ]
  }
 ],
 "metadata": {},
 "nbformat": 4,
 "nbformat_minor": 2
}
